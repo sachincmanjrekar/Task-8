{
 "cells": [
  {
   "cell_type": "code",
   "execution_count": 3,
   "id": "b4de35ae",
   "metadata": {},
   "outputs": [],
   "source": [
    "#!pip install googletrans==3.1.0a0"
   ]
  },
  {
   "cell_type": "code",
   "execution_count": 37,
   "id": "02fa5462",
   "metadata": {},
   "outputs": [],
   "source": [
    "from googletrans import Translator\n",
    "import pandas as pd"
   ]
  },
  {
   "cell_type": "code",
   "execution_count": 38,
   "id": "332514c0",
   "metadata": {},
   "outputs": [],
   "source": [
    "#dir(Translator)"
   ]
  },
  {
   "cell_type": "code",
   "execution_count": 60,
   "id": "336b8d43",
   "metadata": {},
   "outputs": [],
   "source": [
    "df=pd.read_csv(\"English.csv\")\n",
    "df=df.tail(100)"
   ]
  },
  {
   "cell_type": "code",
   "execution_count": 61,
   "id": "e631f391",
   "metadata": {},
   "outputs": [
    {
     "data": {
      "text/plain": [
       "(100, 1)"
      ]
     },
     "execution_count": 61,
     "metadata": {},
     "output_type": "execute_result"
    }
   ],
   "source": [
    "df.shape"
   ]
  },
  {
   "cell_type": "code",
   "execution_count": 62,
   "id": "8d05a5e8",
   "metadata": {},
   "outputs": [],
   "source": [
    "translator=Translator()"
   ]
  },
  {
   "cell_type": "code",
   "execution_count": 63,
   "id": "35a00cc1",
   "metadata": {},
   "outputs": [],
   "source": [
    "df.rename(columns={'English words/sentences':'English'},inplace=True)"
   ]
  },
  {
   "cell_type": "code",
   "execution_count": 64,
   "id": "85b76c80",
   "metadata": {},
   "outputs": [],
   "source": [
    "df['German']=df['English'].apply(lambda x:translator.translate(x,dest='de').text)\n",
    "df['Spanish']=df['English'].apply(lambda x:translator.translate(x,dest='es').text)\n",
    "df['French']=df['English'].apply(lambda x:translator.translate(x,dest='fr').text)"
   ]
  },
  {
   "cell_type": "code",
   "execution_count": 65,
   "id": "d1e6f5de",
   "metadata": {},
   "outputs": [
    {
     "data": {
      "text/html": [
       "<div>\n",
       "<style scoped>\n",
       "    .dataframe tbody tr th:only-of-type {\n",
       "        vertical-align: middle;\n",
       "    }\n",
       "\n",
       "    .dataframe tbody tr th {\n",
       "        vertical-align: top;\n",
       "    }\n",
       "\n",
       "    .dataframe thead th {\n",
       "        text-align: right;\n",
       "    }\n",
       "</style>\n",
       "<table border=\"1\" class=\"dataframe\">\n",
       "  <thead>\n",
       "    <tr style=\"text-align: right;\">\n",
       "      <th></th>\n",
       "      <th>English</th>\n",
       "      <th>German</th>\n",
       "      <th>Spanish</th>\n",
       "      <th>French</th>\n",
       "    </tr>\n",
       "  </thead>\n",
       "  <tbody>\n",
       "    <tr>\n",
       "      <th>175521</th>\n",
       "      <td>I know you're upset about your car being total...</td>\n",
       "      <td>Ich weiß, dass Sie sich darüber aufregen, dass...</td>\n",
       "      <td>Sé que estás molesto porque tu auto quedó dest...</td>\n",
       "      <td>Je sais que tu es contrarié que ta voiture ait...</td>\n",
       "    </tr>\n",
       "    <tr>\n",
       "      <th>175522</th>\n",
       "      <td>I sometimes wish I could live a quiet retired ...</td>\n",
       "      <td>Manchmal wünsche ich mir, ich könnte ein ruhig...</td>\n",
       "      <td>A veces desearía poder vivir una vida tranquil...</td>\n",
       "      <td>J'aimerais parfois vivre une vie de retraite t...</td>\n",
       "    </tr>\n",
       "    <tr>\n",
       "      <th>175523</th>\n",
       "      <td>If you decide to answer questions now without ...</td>\n",
       "      <td>Wenn Sie sich entscheiden, Fragen jetzt ohne A...</td>\n",
       "      <td>Si decide responder preguntas ahora sin la pre...</td>\n",
       "      <td>Si vous décidez de répondre aux questions main...</td>\n",
       "    </tr>\n",
       "    <tr>\n",
       "      <th>175524</th>\n",
       "      <td>Did you know that in Japan, if you have a tatt...</td>\n",
       "      <td>Wussten Sie, dass Sie in Japan, wenn Sie ein T...</td>\n",
       "      <td>¿Sabías que en Japón, si tienes un tatuaje, no...</td>\n",
       "      <td>Saviez-vous qu'au Japon, si vous avez un tatou...</td>\n",
       "    </tr>\n",
       "    <tr>\n",
       "      <th>175525</th>\n",
       "      <td>Witnesses told police that the train was trave...</td>\n",
       "      <td>Zeugen sagten der Polizei, dass der Zug weit ü...</td>\n",
       "      <td>Los testigos dijeron a la policía que el tren ...</td>\n",
       "      <td>Des témoins ont déclaré à la police que le tra...</td>\n",
       "    </tr>\n",
       "  </tbody>\n",
       "</table>\n",
       "</div>"
      ],
      "text/plain": [
       "                                                  English  \\\n",
       "175521  I know you're upset about your car being total...   \n",
       "175522  I sometimes wish I could live a quiet retired ...   \n",
       "175523  If you decide to answer questions now without ...   \n",
       "175524  Did you know that in Japan, if you have a tatt...   \n",
       "175525  Witnesses told police that the train was trave...   \n",
       "\n",
       "                                                   German  \\\n",
       "175521  Ich weiß, dass Sie sich darüber aufregen, dass...   \n",
       "175522  Manchmal wünsche ich mir, ich könnte ein ruhig...   \n",
       "175523  Wenn Sie sich entscheiden, Fragen jetzt ohne A...   \n",
       "175524  Wussten Sie, dass Sie in Japan, wenn Sie ein T...   \n",
       "175525  Zeugen sagten der Polizei, dass der Zug weit ü...   \n",
       "\n",
       "                                                  Spanish  \\\n",
       "175521  Sé que estás molesto porque tu auto quedó dest...   \n",
       "175522  A veces desearía poder vivir una vida tranquil...   \n",
       "175523  Si decide responder preguntas ahora sin la pre...   \n",
       "175524  ¿Sabías que en Japón, si tienes un tatuaje, no...   \n",
       "175525  Los testigos dijeron a la policía que el tren ...   \n",
       "\n",
       "                                                   French  \n",
       "175521  Je sais que tu es contrarié que ta voiture ait...  \n",
       "175522  J'aimerais parfois vivre une vie de retraite t...  \n",
       "175523  Si vous décidez de répondre aux questions main...  \n",
       "175524  Saviez-vous qu'au Japon, si vous avez un tatou...  \n",
       "175525  Des témoins ont déclaré à la police que le tra...  "
      ]
     },
     "execution_count": 65,
     "metadata": {},
     "output_type": "execute_result"
    }
   ],
   "source": [
    "df.head()"
   ]
  },
  {
   "cell_type": "code",
   "execution_count": null,
   "id": "bb35a74f",
   "metadata": {},
   "outputs": [],
   "source": []
  }
 ],
 "metadata": {
  "hide_input": false,
  "kernelspec": {
   "display_name": "Python 3 (ipykernel)",
   "language": "python",
   "name": "python3"
  },
  "language_info": {
   "codemirror_mode": {
    "name": "ipython",
    "version": 3
   },
   "file_extension": ".py",
   "mimetype": "text/x-python",
   "name": "python",
   "nbconvert_exporter": "python",
   "pygments_lexer": "ipython3",
   "version": "3.9.13"
  }
 },
 "nbformat": 4,
 "nbformat_minor": 5
}
